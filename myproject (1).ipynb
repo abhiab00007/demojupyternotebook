{
 "cells": [
  {
   "cell_type": "markdown",
   "id": "7ba3a879-f6a7-451e-b99d-74e330fca953",
   "metadata": {},
   "source": [
    "# datascience languages, libraries and tools"
   ]
  },
  {
   "cell_type": "markdown",
   "id": "13f2128e-c6f9-44f4-a84b-af7b965bbcd7",
   "metadata": {},
   "source": [
    "### welcome to my project on data science where we learn about its languages libraries and tools"
   ]
  },
  {
   "cell_type": "markdown",
   "id": "4d90e87f-1e16-4cd1-88d9-b30820268670",
   "metadata": {},
   "source": [
    "#### some data science languages are:"
   ]
  },
  {
   "cell_type": "markdown",
   "id": "adc500e0-1e5c-491e-b82b-5ad218249fcf",
   "metadata": {},
   "source": [
    "1. python\n",
    "2. R\n",
    "3. julia\n",
    "4. SQL"
   ]
  },
  {
   "cell_type": "markdown",
   "id": "2fc5a4ac-b6b7-43be-b1c3-7b40beb7e920",
   "metadata": {},
   "source": [
    "#### datascience libraries are essential resources that simplify complex data tasks, allowing practitioners to efficiently analyse and visualize large datasets. these libraries provide a wide range of pre-built functions and algorithms, enabling data scientists to focus on extracting insights and building models rather than developing foundational code"
   ]
  },
  {
   "cell_type": "markdown",
   "id": "1e3fd1b3-caeb-4875-8813-44b4e12daad5",
   "metadata": {},
   "source": [
    "#### some datascience libraries are:"
   ]
  },
  {
   "cell_type": "markdown",
   "id": "cc548c2b-9dfa-4461-a591-8137174649e5",
   "metadata": {},
   "source": [
    "1. pandas\n",
    "2. numpy\n",
    "3. tensorflow\n",
    "4. dplyr"
   ]
  },
  {
   "cell_type": "markdown",
   "id": "0b94e4ba-d3cc-473d-891d-1f5dd793c85b",
   "metadata": {},
   "source": [
    "#### here is a table showing some datascience tools of each libraries"
   ]
  },
  {
   "cell_type": "markdown",
   "id": "8b654031-0724-4974-9a70-06e1f516066e",
   "metadata": {},
   "source": [
    "| library | datascience tools| \n",
    "|---------|------------------|\n",
    "| pandas   | jupyter notebook  | \n",
    "| numpy    | sciPy | \n"
   ]
  },
  {
   "cell_type": "markdown",
   "id": "fafa4968-7c22-483a-8aaf-7b3884cfd21c",
   "metadata": {},
   "source": [
    "#### let us now explore some common examples of arithmetic expressions, including addition, subtraction, multiplication, and division like 23+21, 2*9, 6-1, 80/10 etc"
   ]
  },
  {
   "cell_type": "markdown",
   "id": "992151a1-3d85-44ac-b197-85ec61ce1aea",
   "metadata": {},
   "source": [
    "##### defining two numbers a and b to do addition and multiplication:"
   ]
  },
  {
   "cell_type": "code",
   "execution_count": 14,
   "id": "8a4587d8-2bbb-4ba0-8824-55928fa4becd",
   "metadata": {},
   "outputs": [],
   "source": [
    "a=2\n",
    "b=4"
   ]
  },
  {
   "cell_type": "code",
   "execution_count": 16,
   "id": "110f76a0-24bf-4f2c-ba26-0694da190e4e",
   "metadata": {},
   "outputs": [
    {
     "data": {
      "text/plain": [
       "6"
      ]
     },
     "execution_count": 16,
     "metadata": {},
     "output_type": "execute_result"
    }
   ],
   "source": [
    "a+b"
   ]
  },
  {
   "cell_type": "code",
   "execution_count": 18,
   "id": "6da12418-2e94-4124-a7fe-d430230cbbe6",
   "metadata": {},
   "outputs": [
    {
     "data": {
      "text/plain": [
       "8"
      ]
     },
     "execution_count": 18,
     "metadata": {},
     "output_type": "execute_result"
    }
   ],
   "source": [
    "a*b\n"
   ]
  },
  {
   "cell_type": "markdown",
   "id": "c67f79d9-448e-4c64-9b00-7786b508e04f",
   "metadata": {},
   "source": [
    "#### lets covert any given amount of minutes to hours"
   ]
  },
  {
   "cell_type": "code",
   "execution_count": 21,
   "id": "412eaaca-727f-478d-be6b-abf94b5ea362",
   "metadata": {},
   "outputs": [],
   "source": [
    "minutes= 150\n",
    "hours=minutes/60"
   ]
  },
  {
   "cell_type": "code",
   "execution_count": 23,
   "id": "fca0053d-6e0f-4a52-9ce4-42cd80ece59e",
   "metadata": {},
   "outputs": [
    {
     "data": {
      "text/plain": [
       "2.5"
      ]
     },
     "execution_count": 23,
     "metadata": {},
     "output_type": "execute_result"
    }
   ],
   "source": [
    "hours"
   ]
  },
  {
   "cell_type": "markdown",
   "id": "8e9465e2-4389-46ee-b23e-9f99789c343c",
   "metadata": {},
   "source": [
    "#### Data science is an interdisciplinary field that combines statistical analysis, programming, and domain expertise to extract insights from data. It plays a crucial role in decision-making across various industries by transforming raw data into actionable knowledge. some uses of the languages used in data science are given below"
   ]
  },
  {
   "cell_type": "markdown",
   "id": "2ef26b33-48f5-4efd-91dd-bae01dc70630",
   "metadata": {},
   "source": [
    "##### -Data Cleaning and Preparation\n",
    "##### -Statistical Analysis\n",
    "##### -Data Visualization\n",
    "##### -Machine Learning"
   ]
  },
  {
   "cell_type": "markdown",
   "id": "c2a3c2ba-043d-4ea2-a336-f5da1a16a2e2",
   "metadata": {},
   "source": [
    "#### **author: ABHI**"
   ]
  },
  {
   "cell_type": "code",
   "execution_count": null,
   "id": "7d823cbe-54cc-4329-ade6-d0239f5b6fc2",
   "metadata": {},
   "outputs": [],
   "source": []
  }
 ],
 "metadata": {
  "kernelspec": {
   "display_name": "Python 3 (ipykernel)",
   "language": "python",
   "name": "python3"
  },
  "language_info": {
   "codemirror_mode": {
    "name": "ipython",
    "version": 3
   },
   "file_extension": ".py",
   "mimetype": "text/x-python",
   "name": "python",
   "nbconvert_exporter": "python",
   "pygments_lexer": "ipython3",
   "version": "3.12.4"
  }
 },
 "nbformat": 4,
 "nbformat_minor": 5
}
